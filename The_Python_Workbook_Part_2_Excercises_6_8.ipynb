{
  "nbformat": 4,
  "nbformat_minor": 0,
  "metadata": {
    "colab": {
      "provenance": [],
      "authorship_tag": "ABX9TyPlTvttPeVdCPP4miWjSTWl",
      "include_colab_link": true
    },
    "kernelspec": {
      "name": "python3",
      "display_name": "Python 3"
    },
    "language_info": {
      "name": "python"
    }
  },
  "cells": [
    {
      "cell_type": "markdown",
      "metadata": {
        "id": "view-in-github",
        "colab_type": "text"
      },
      "source": [
        "<a href=\"https://colab.research.google.com/github/aru-ai-dev/Python-Excercises/blob/main/The_Python_Workbook_Part_2_Excercises_6_8.ipynb\" target=\"_parent\"><img src=\"https://colab.research.google.com/assets/colab-badge.svg\" alt=\"Open In Colab\"/></a>"
      ]
    },
    {
      "cell_type": "code",
      "execution_count": null,
      "metadata": {
        "colab": {
          "base_uri": "https://localhost:8080/"
        },
        "id": "-lmPzFgeIRbx",
        "outputId": "7fb386d2-a5e8-48f4-a0c6-8fd8631287f5"
      },
      "outputs": [
        {
          "output_type": "stream",
          "name": "stdout",
          "text": [
            "Enter the first number: 55\n",
            "Enter the second number: 77\n",
            "The sum of 55.0 and 77.0 is 132.0.\n"
          ]
        }
      ],
      "source": [
        "# Simple Python Program: Add Two Numbers\n",
        "\n",
        "# Ask the user for two numbers\n",
        "num1 = float(input(\"Enter the first number: \"))\n",
        "num2 = float(input(\"Enter the second number: \"))\n",
        "\n",
        "# Perform addition\n",
        "result = num1 + num2\n",
        "\n",
        "# Display the result\n",
        "print(f\"The sum of {num1} and {num2} is {result}.\")\n"
      ]
    }
  ]
}