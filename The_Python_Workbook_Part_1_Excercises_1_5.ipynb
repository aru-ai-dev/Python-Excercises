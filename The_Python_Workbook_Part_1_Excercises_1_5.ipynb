{
  "nbformat": 4,
  "nbformat_minor": 0,
  "metadata": {
    "colab": {
      "provenance": [],
      "authorship_tag": "ABX9TyPlTvttPeVdCPP4miWjSTWl",
      "include_colab_link": true
    },
    "kernelspec": {
      "name": "python3",
      "display_name": "Python 3"
    },
    "language_info": {
      "name": "python"
    }
  },
  "cells": [
    {
      "cell_type": "markdown",
      "metadata": {
        "id": "view-in-github",
        "colab_type": "text"
      },
      "source": [
        "<a href=\"https://colab.research.google.com/github/aru-ai-dev/Python-Excercises/blob/main/The_Python_Workbook_Part_1_Excercises_1_5.ipynb\" target=\"_parent\"><img src=\"https://colab.research.google.com/assets/colab-badge.svg\" alt=\"Open In Colab\"/></a>"
      ]
    },
    {
      "cell_type": "code",
      "execution_count": null,
      "metadata": {
        "colab": {
          "base_uri": "https://localhost:8080/"
        },
        "id": "urYUUjg2H9pw",
        "outputId": "3b62b2a2-b5a0-4026-896b-72f57d2d07bd"
      },
      "outputs": [
        {
          "output_type": "stream",
          "name": "stdout",
          "text": [
            "Enter the first number: 44\n",
            "Enter the second number: 55\n",
            "The sum of 44.0 and 55.0 is 99.0.\n"
          ]
        }
      ],
      "source": [
        "# Simple Python Program: Add Two Numbers\n",
        "\n",
        "# Ask the user for two numbers\n",
        "num1 = float(input(\"Enter the first number: \"))\n",
        "num2 = float(input(\"Enter the second number: \"))\n",
        "\n",
        "# Perform addition\n",
        "result = num1 + num2\n",
        "\n",
        "# Display the result\n",
        "print(f\"The sum of {num1} and {num2} is {result}.\")\n"
      ]
    }
  ]
}